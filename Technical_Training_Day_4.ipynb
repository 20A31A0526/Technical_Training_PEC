{
  "nbformat": 4,
  "nbformat_minor": 0,
  "metadata": {
    "colab": {
      "provenance": []
    },
    "kernelspec": {
      "name": "python3",
      "display_name": "Python 3"
    },
    "language_info": {
      "name": "python"
    }
  },
  "cells": [
    {
      "cell_type": "markdown",
      "source": [
        "### **XOR Operation**\n"
      ],
      "metadata": {
        "id": "CvFnDlxS34Et"
      }
    },
    {
      "cell_type": "code",
      "execution_count": null,
      "metadata": {
        "id": "mEBtBK9LW07J",
        "colab": {
          "base_uri": "https://localhost:8080/"
        },
        "outputId": "bfce0ea7-48b8-40c1-9f1f-2f0c52eea640"
      },
      "outputs": [
        {
          "output_type": "stream",
          "name": "stdout",
          "text": [
            "1\n",
            "0\n"
          ]
        }
      ],
      "source": [
        "#Xor Operation\n",
        "a=2\n",
        "b=3\n",
        "print(a^b)\n",
        "print(a^a)"
      ]
    },
    {
      "cell_type": "markdown",
      "source": [
        "### **Repetition Operator**"
      ],
      "metadata": {
        "id": "pWbBfy_25IbR"
      }
    },
    {
      "cell_type": "code",
      "source": [
        "l=[1,2,3]\n",
        "print('List repetition:',l*2)\n",
        "s='abc'\n",
        "print('String repetition:',s*2)"
      ],
      "metadata": {
        "colab": {
          "base_uri": "https://localhost:8080/"
        },
        "id": "jrbBjvv13Iaj",
        "outputId": "a2175bbf-2d91-43d8-8c99-cf6fd3719511"
      },
      "execution_count": null,
      "outputs": [
        {
          "output_type": "stream",
          "name": "stdout",
          "text": [
            "List repetition: [1, 2, 3, 1, 2, 3]\n",
            "String repetition: abcabc\n"
          ]
        }
      ]
    },
    {
      "cell_type": "markdown",
      "source": [
        "### **Packages**\n",
        "1. To combine 2 programs\n",
        "2. To decrease the code size"
      ],
      "metadata": {
        "id": "GOcen3NE7aVZ"
      }
    },
    {
      "cell_type": "code",
      "source": [
        "def add(a,b):\n",
        "  return a+b\n",
        "a,b=map(int,input().split())\n",
        "print(add(a,b))"
      ],
      "metadata": {
        "colab": {
          "base_uri": "https://localhost:8080/"
        },
        "id": "rqSzewxn5SkB",
        "outputId": "8abb97e4-dd1e-4557-9230-7b50372b4a97"
      },
      "execution_count": null,
      "outputs": [
        {
          "output_type": "stream",
          "name": "stdout",
          "text": [
            "1 4\n",
            "5\n"
          ]
        }
      ]
    },
    {
      "cell_type": "markdown",
      "source": [
        "### **OOPS**\n",
        "\n",
        "Object Oriented Programming\n",
        "1. class \n",
        "   - It is a blueprint of the object"
      ],
      "metadata": {
        "id": "wVU5gJLu9VKP"
      }
    },
    {
      "cell_type": "markdown",
      "source": [
        "### **Constructor**\n",
        "1. It is the first method in class\n",
        "2. It stores the variables present in the class\n",
        "3. There are 2 types of constructors\n",
        "   - default constructor\n",
        "      - It doesnot has any arguments\n",
        "   - parameterized constructor\n",
        "      - It contains arguments"
      ],
      "metadata": {
        "id": "8xcJd_fqB7AT"
      }
    },
    {
      "cell_type": "code",
      "source": [
        "#default constructor\n",
        "class const:\n",
        "  def __init__(self):\n",
        "    pass\n",
        "print('hi')"
      ],
      "metadata": {
        "colab": {
          "base_uri": "https://localhost:8080/"
        },
        "id": "TiLXkeoBCfaZ",
        "outputId": "b7ed8b1a-d4ec-4eb7-f584-988f8f40929c"
      },
      "execution_count": null,
      "outputs": [
        {
          "output_type": "stream",
          "name": "stdout",
          "text": [
            "hi\n"
          ]
        }
      ]
    },
    {
      "cell_type": "code",
      "source": [
        "class Stu:\n",
        "  student_name='No name'\n",
        "  def __init__(self,name):\n",
        "    self.sname=name\n",
        "    print('Class variable:',self.student_name)\n",
        "a1=input()\n",
        "s1=Stu(a1)\n",
        "print('Passed variable:',s1.sname)"
      ],
      "metadata": {
        "colab": {
          "base_uri": "https://localhost:8080/"
        },
        "id": "YrHjC0JGEJKx",
        "outputId": "e649c492-62dd-4644-fab9-0ddeeb3e8e7d"
      },
      "execution_count": null,
      "outputs": [
        {
          "output_type": "stream",
          "name": "stdout",
          "text": [
            "abc\n",
            "Class variable: No name\n",
            "Passed variable: abc\n"
          ]
        }
      ]
    },
    {
      "cell_type": "code",
      "source": [
        "#student class\n",
        "#variables - name,roll number,branch,marks,attendence\n",
        "#methods - view_attendence(),view_marks(),view_name(),update_name()\n",
        "class Student:\n",
        "  #parameterized constructor\n",
        "  def __init__(self,name,marks,attendence):\n",
        "    self.name=name\n",
        "    self.marks=marks\n",
        "    self.attendence=attendence\n",
        "  def view_name(self):\n",
        "    print('Student name is:',name)\n",
        "  def update_name(self,new_name):\n",
        "    self.name=new_name\n",
        "    print('Student new name:',self.name)\n",
        "  def view_marks(self):\n",
        "    print('Student marks:',self.marks)\n",
        "  def attendance(self):\n",
        "    print('Student attendance:',self.attendence)\n",
        "name=input('Enter name:')\n",
        "marks=int(input('Enter marks:'))\n",
        "attendence=int(input('Enter attendence:'))\n",
        "obj=Student(name,marks,attendence)\n",
        "obj.view_name()"
      ],
      "metadata": {
        "colab": {
          "base_uri": "https://localhost:8080/"
        },
        "id": "5ptFjH5T8fd7",
        "outputId": "4889d783-f9e5-4d17-8c9a-64bfa6ffe4cf"
      },
      "execution_count": null,
      "outputs": [
        {
          "output_type": "stream",
          "name": "stdout",
          "text": [
            "Enter name:abc\n",
            "Enter marks:99\n",
            "Enter attendence:95\n",
            "Student name is: abc\n"
          ]
        }
      ]
    },
    {
      "cell_type": "code",
      "source": [
        "#count no of pairs in the given list whose sum is equal to given sum\n",
        "l=list(map(int,input().split()))\n",
        "k=int(input())\n",
        "d=[]\n",
        "for i in range(len(l)):\n",
        "  a=k-l[i]\n",
        "  l1=l[i+1:]\n",
        "  if a in l1 and [l[i],a] not in d:\n",
        "    d.append([l[i],a])\n",
        "print(d)\n",
        "print(len(d))"
      ],
      "metadata": {
        "colab": {
          "base_uri": "https://localhost:8080/"
        },
        "id": "sofsZtMEBZrC",
        "outputId": "0d7431cb-c85c-4c2f-a65b-c3bd1aa0852c"
      },
      "execution_count": null,
      "outputs": [
        {
          "output_type": "stream",
          "name": "stdout",
          "text": [
            "1 2 3 4 2 2\n",
            "4\n",
            "[[1, 3], [2, 2]]\n",
            "2\n"
          ]
        }
      ]
    },
    {
      "cell_type": "code",
      "source": [
        "#bank details\n",
        "class bank:\n",
        "  def __init__(self,username,account_no,branch):\n",
        "    self.username=username\n",
        "    self.account_no=account_no\n",
        "    self.branch=branch\n",
        "  def print_details(self):\n",
        "    print('Username:',self.username)\n",
        "    print('Account_no:',self.account_no)\n",
        "    print('Branch:',self.branch)\n",
        "name=input()\n",
        "account_no=int(input())\n",
        "branch=input()\n",
        "obj=bank(name,account_no,branch)\n",
        "obj.print_details()"
      ],
      "metadata": {
        "colab": {
          "base_uri": "https://localhost:8080/"
        },
        "id": "6ddu4_KJLUVq",
        "outputId": "c494848f-9aec-4e81-8841-5f5d53ac9b8d"
      },
      "execution_count": null,
      "outputs": [
        {
          "output_type": "stream",
          "name": "stdout",
          "text": [
            "abc\n",
            "123456\n",
            "pdp\n",
            "Username: abc\n",
            "Account_no: 123456\n",
            "Branch: pdp\n"
          ]
        }
      ]
    },
    {
      "cell_type": "markdown",
      "source": [
        "### **Encapsulation**"
      ],
      "metadata": {
        "id": "wvnSL7eio01r"
      }
    },
    {
      "cell_type": "code",
      "source": [
        "#printing bank details\n",
        "class Bank:\n",
        "  #private object\n",
        "  __account_IFSC=''\n",
        "  __password=''\n",
        "  def __init__(self,account_no,user_name,branch):\n",
        "    self.account_no=account_no\n",
        "    self.user_name=user_name\n",
        "    self.branch=branch\n",
        "    self.__password='random password'\n",
        "    self.generate_IFSC()\n",
        "  def generate_IFSC(self):\n",
        "    self.account_IFSC=f\"IFSC{self.branch}{self.account_no}\"\n",
        "    return self.account_IFSC\n",
        "  def print_details_of_user(self):\n",
        "    print('Account number:',self.account_no)\n",
        "    print('User name:',self.user_name)\n",
        "    print('Bank name:',self.branch)\n",
        "username=input()\n",
        "account_no=int(input())\n",
        "branch=input()\n",
        "a=Bank(account_no,username,branch)\n",
        "print(a.generate_IFSC())\n",
        "a.print_details_of_user()"
      ],
      "metadata": {
        "id": "yFQ0HcNMRFuL",
        "colab": {
          "base_uri": "https://localhost:8080/"
        },
        "outputId": "7d1fcfba-be0d-42f1-fca8-9e3a2d81d3cb"
      },
      "execution_count": null,
      "outputs": [
        {
          "output_type": "stream",
          "name": "stdout",
          "text": [
            "user\n",
            "123\n",
            "pdp\n",
            "IFSCpdp123\n",
            "Account number: 123\n",
            "User name: user\n",
            "Bank name: pdp\n"
          ]
        }
      ]
    },
    {
      "cell_type": "code",
      "source": [
        "class User:\n",
        "  full_name=''\n",
        "  email=''\n",
        "  __password=''\n",
        "  mobile_number=''\n",
        "  def __init__(self,full_name,email,password,mobile_number):\n",
        "    self.full_name=full_name\n",
        "    self.email=email\n",
        "    self.password=password\n",
        "    self.mobile_number=mobile_number\n",
        "  def update_name(self,new_name):\n",
        "    self.full_name=new_name\n",
        "  def get_name(self):\n",
        "    return self.full_name\n",
        "  #setter method\n",
        "  def update_password(self,new_password):\n",
        "    self.__password=new_password\n",
        "  def update_mobile_number(self,new_mobile_number):\n",
        "    self.mobile_number=new_mobile_number\n",
        "  #getter method\n",
        "  def get_user_password(self):\n",
        "    return self.__password"
      ],
      "metadata": {
        "id": "2HEut-5Mr8Pi"
      },
      "execution_count": null,
      "outputs": []
    },
    {
      "cell_type": "code",
      "source": [
        "#login\n",
        "class Login:\n",
        "  __db=[]\n",
        "  def __init__(self):\n",
        "    self.print_menu()\n",
        "  def print_menu(self):\n",
        "    print('Welcome User')\n",
        "    print('1.Register')\n",
        "    print('2.Login')\n",
        "    print('3.Exit')\n",
        "  def create_user(self,name,email,password,mobile_number):\n",
        "    new_user=User(name,email,password,mobile_number)\n",
        "    self.__db.append(new_user)\n",
        "    return True\n",
        "  def validate_user(self,email,password):\n",
        "    temp=self.__db.copy()\n",
        "    for user in temp:\n",
        "      if user.email==email:\n",
        "        if user.get_user_password()==password:\n",
        "          return 'Successfully logged in'\n",
        "        else:\n",
        "          return 'Password is incorrect'\n",
        "    return 'User not found'\n",
        "obj=Login()\n",
        "while True:\n",
        "  option=input('Enter your choice:')\n",
        "  if option=='1':\n",
        "    name=input('Enter your full name:')\n",
        "    email=input('Enter your email:')\n",
        "    password=input('Enter your password:')\n",
        "    mobile_number=int(input('Enter mobile number:'))\n",
        "    res=obj.create_user(name,email,password,mobile_number)    \n",
        "    if res==True:\n",
        "      print('User successfully registered!!')\n",
        "  elif option=='2':\n",
        "    email=input('Enter your email:')\n",
        "    password=input('Enter your password:')\n",
        "    validation=obj.validate_user(email,password)\n",
        "    print(validation)\n",
        "  elif option=='3':\n",
        "    break\n",
        "  else:\n",
        "    print('Invalid input')"
      ],
      "metadata": {
        "colab": {
          "base_uri": "https://localhost:8080/"
        },
        "id": "DaycbbA6vS1F",
        "outputId": "71bd97b6-e5a6-4654-a4c2-cd6ccbe4098c"
      },
      "execution_count": null,
      "outputs": [
        {
          "output_type": "stream",
          "name": "stdout",
          "text": [
            "Welcome User\n",
            "1.Register\n",
            "2.Login\n",
            "3.Exit\n",
            "Enter your choice:1\n",
            "Enter your full name:abc\n",
            "Enter your email:abc@gmail.com\n",
            "Enter your password:1234\n",
            "Enter mobile number:123456789\n",
            "User successfully registered!!\n"
          ]
        }
      ]
    },
    {
      "cell_type": "code",
      "source": [
        "#validating password\n",
        "#starting with alphabet\n",
        "#end with @gmail.com\n",
        "#abcdef@gmail.com\n",
        "password=input()\n",
        "s='abcdefghijklmnopqrstuvwxyz'\n",
        "d=password[len(password)-10:]\n",
        "if (password[0] in s or password[0].lower()) and d=='@gmail.com':\n",
        "  print('Your email format is correct!!')\n",
        "else:\n",
        "  print('**OOPS you entered wrong format!!**')\n"
      ],
      "metadata": {
        "colab": {
          "base_uri": "https://localhost:8080/"
        },
        "id": "FhkwNwoJ0ejA",
        "outputId": "bd6acb78-50e6-4bd7-8d8a-ee091d28024b"
      },
      "execution_count": null,
      "outputs": [
        {
          "output_type": "stream",
          "name": "stdout",
          "text": [
            "abc@gmail.com\n",
            "Your email format is correct!!\n"
          ]
        }
      ]
    }
  ]
}