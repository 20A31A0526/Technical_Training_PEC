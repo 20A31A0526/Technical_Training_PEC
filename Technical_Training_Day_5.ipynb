{
  "nbformat": 4,
  "nbformat_minor": 0,
  "metadata": {
    "colab": {
      "provenance": []
    },
    "kernelspec": {
      "name": "python3",
      "display_name": "Python 3"
    },
    "language_info": {
      "name": "python"
    }
  },
  "cells": [
    {
      "cell_type": "markdown",
      "source": [
        "### **Inheritance**\n",
        "1. Single inheritance\n",
        "2. Multi-level inheritance\n",
        "3. Hierarchical inheritance\n",
        "4. Multiple inheritance"
      ],
      "metadata": {
        "id": "6qzUnw17FoGB"
      }
    },
    {
      "cell_type": "code",
      "execution_count": null,
      "metadata": {
        "id": "VP6iSR185Nwy",
        "colab": {
          "base_uri": "https://localhost:8080/"
        },
        "outputId": "8256d3a0-3847-4628-cc7b-3e411dbdba40"
      },
      "outputs": [
        {
          "output_type": "stream",
          "name": "stdout",
          "text": [
            "25\n",
            "Meher\n"
          ]
        }
      ],
      "source": [
        "#single inheritance\n",
        "#parent class\n",
        "class A:\n",
        "  name='Teja'\n",
        "  age=26\n",
        "#child class\n",
        "class B(A):\n",
        "  age=25\n",
        "obj=B()\n",
        "obj.name='Meher'\n",
        "print(obj.age)\n",
        "print(obj.name)"
      ]
    },
    {
      "cell_type": "code",
      "source": [
        "#multi-level inheritance\n",
        "class A:\n",
        "  name='Teja'\n",
        "  age=26\n",
        "class B(A):\n",
        "  age=10\n",
        "class C(A):\n",
        "  age=20\n",
        "obj1=B()\n",
        "obj2=C()\n",
        "print(obj1.name)\n",
        "print(obj2.name)\n",
        "print(obj1.age)\n",
        "print(obj2.age)"
      ],
      "metadata": {
        "colab": {
          "base_uri": "https://localhost:8080/"
        },
        "id": "fkK5k7B8GSkT",
        "outputId": "ba0ebae7-b551-46b7-a39f-3c06ca4b7d33"
      },
      "execution_count": null,
      "outputs": [
        {
          "output_type": "stream",
          "name": "stdout",
          "text": [
            "Teja\n",
            "Teja\n",
            "10\n",
            "20\n"
          ]
        }
      ]
    },
    {
      "cell_type": "code",
      "source": [
        "#example\n",
        "#all best_friends are friends but all friends are not best_friends\n",
        "#Moral --- all the parent class properties are accessible by child class but child class properties are not accessible by parent class\n",
        "class Friend:\n",
        "  f1,f2,f3='f1','f2','f3'\n",
        "class Best_Friend(Friend):\n",
        "  selected_frds=['meher','kusuma']\n",
        "obj1=Best_Friend()\n",
        "print(obj1.f1)\n",
        "print(obj1.f2)\n",
        "print(obj1.selected_frds)\n"
      ],
      "metadata": {
        "colab": {
          "base_uri": "https://localhost:8080/"
        },
        "id": "5CcwEgF4HUM7",
        "outputId": "db55c8ff-a8cc-48ed-8b37-4ca452ef7323"
      },
      "execution_count": null,
      "outputs": [
        {
          "output_type": "stream",
          "name": "stdout",
          "text": [
            "f1\n",
            "f2\n",
            "['meher', 'kusuma']\n"
          ]
        }
      ]
    },
    {
      "cell_type": "code",
      "source": [
        "#example-2\n",
        "class Great_grand_father:\n",
        "  ggf_name='Great_grand_father'\n",
        "class Grand_father(Great_grand_father):\n",
        "  gf_name='Grand_father'\n",
        "class Father(Grand_father):\n",
        "  f_name='Father'\n",
        "class Child(Father):\n",
        "  c_name='Child'\n",
        "obj=Child()\n",
        "print(obj.ggf_name)\n",
        "print(obj.gf_name)\n",
        "print(obj.f_name)\n",
        "print(obj.c_name)"
      ],
      "metadata": {
        "colab": {
          "base_uri": "https://localhost:8080/"
        },
        "id": "MX81GKVMIP0h",
        "outputId": "ff9639f6-2169-4cd7-dd43-3b0fed422ceb"
      },
      "execution_count": null,
      "outputs": [
        {
          "output_type": "stream",
          "name": "stdout",
          "text": [
            "Great_grand_father\n",
            "Grand_father\n",
            "Father\n",
            "Child\n"
          ]
        }
      ]
    },
    {
      "cell_type": "code",
      "source": [
        "#Hierarchical inheritance\n",
        "class Person:\n",
        "  name=''\n",
        "  gender=''\n",
        "  age=''\n",
        "  pass\n",
        "class Student(Person):\n",
        "  s_name=''\n",
        "  s_id=''\n",
        "  s_branch=''\n",
        "class Faculty(Person):\n",
        "  salary=''\n",
        "  subject=''\n",
        "\n"
      ],
      "metadata": {
        "id": "iJvwFMMeKd05"
      },
      "execution_count": null,
      "outputs": []
    },
    {
      "cell_type": "code",
      "source": [
        "#example for Hierarchical \n",
        "class AI:\n",
        "  b_name='AI'\n",
        "class Machine_Learning(AI):\n",
        "  m_name='Machine Learning'\n",
        "class IOT(AI):\n",
        "  i_name='Internet Of Things'\n",
        "class Deep_Learning(AI):\n",
        "  d_name='Deep Learning'\n",
        "class NLP(AI):\n",
        "  n_name='Natural Language Processing'\n",
        "obj1=Machine_Learning()\n",
        "obj2=IOT()\n",
        "obj3=Deep_Learning()\n",
        "obj4=NLP()\n",
        "print('Parent:',obj1.b_name)\n",
        "print(obj1.m_name)\n",
        "print('Parent:',obj2.b_name)\n",
        "print(obj2.i_name)\n",
        "print('Parent:',obj3.b_name)\n",
        "print(obj3.d_name)\n",
        "print('Parent:',obj4.b_name)\n",
        "print(obj4.n_name)"
      ],
      "metadata": {
        "colab": {
          "base_uri": "https://localhost:8080/"
        },
        "id": "9TkosbGSLfOU",
        "outputId": "61a73095-828b-4269-a199-e217ef5593b1"
      },
      "execution_count": null,
      "outputs": [
        {
          "output_type": "stream",
          "name": "stdout",
          "text": [
            "Parent: AI\n",
            "Machine Learning\n",
            "Parent: AI\n",
            "Internet Of Things\n",
            "Parent: AI\n",
            "Deep Learning\n",
            "Parent: AI\n",
            "Natural Language Processing\n"
          ]
        }
      ]
    },
    {
      "cell_type": "code",
      "source": [
        "#Multiple inheritance\n",
        "#parent-1\n",
        "class Pani_puri:\n",
        "  def Sweet(self):\n",
        "    print('Your sweet pani puri order is placed')\n",
        "  def Hot(self):\n",
        "    print('Your hot pani puri order is placed')\n",
        "#parent-2\n",
        "class Biryani:\n",
        "  def Mandi(self):\n",
        "    print('Your mandi order is placed')\n",
        "class Customer(Pani_puri,Biryani):\n",
        "  def Drive(self):\n",
        "    print('Started to hotel')\n",
        "pp=Customer()\n",
        "pp.Drive()\n",
        "pp.Sweet()\n",
        "pp.Hot()\n",
        "pp.Mandi()"
      ],
      "metadata": {
        "colab": {
          "base_uri": "https://localhost:8080/"
        },
        "id": "YlxzSvNHM7Zv",
        "outputId": "50a06008-ed36-427b-e83c-179ef27c11b9"
      },
      "execution_count": null,
      "outputs": [
        {
          "output_type": "stream",
          "name": "stdout",
          "text": [
            "Started to hotel\n",
            "Your sweet pani puri order is placed\n",
            "Your hot pani puri order is placed\n",
            "Your mandi order is placed\n"
          ]
        }
      ]
    },
    {
      "cell_type": "code",
      "source": [
        "#hybrid inheritance\n",
        "#single+multiple\n",
        "#single- Menus,Customer\n",
        "#multiple- Panipuri,Biryani\n",
        "class Pani_puri:\n",
        "  def Sweet(self):\n",
        "    print('Your sweet pani puri order is placed')\n",
        "  def Hot(self):\n",
        "    print('Your hot pani puri order is placed')\n",
        "#parent-2\n",
        "class Biryani:\n",
        "  def Mandi(self):\n",
        "    print('Your mandi order is placed')\n",
        "class Menus(Pani_puri,Biryani):\n",
        "  def menu(self):\n",
        "    print('Please place your order!!')\n",
        "class Customer(Menus):\n",
        "  def Drive(self):\n",
        "    print('Started to hotel')\n",
        "pp=Customer()\n",
        "pp.Drive()\n",
        "pp.menu()\n",
        "pp.Sweet()\n",
        "pp.Hot()\n",
        "pp.Mandi()"
      ],
      "metadata": {
        "colab": {
          "base_uri": "https://localhost:8080/"
        },
        "id": "TuukFx5WQwYX",
        "outputId": "6a435fc2-db65-4024-daa1-3c350181acfb"
      },
      "execution_count": null,
      "outputs": [
        {
          "output_type": "stream",
          "name": "stdout",
          "text": [
            "Started to hotel\n",
            "Please place your order!!\n",
            "Your sweet pani puri order is placed\n",
            "Your hot pani puri order is placed\n",
            "Your mandi order is placed\n"
          ]
        }
      ]
    },
    {
      "cell_type": "code",
      "source": [
        "#random\n",
        "import random\n",
        "l=[1,2,3,4]\n",
        "print(random.choice(l))"
      ],
      "metadata": {
        "id": "yjnw1eltT93b",
        "colab": {
          "base_uri": "https://localhost:8080/"
        },
        "outputId": "02a23c42-8d59-4fcd-d6d6-c745208c4a27"
      },
      "execution_count": 2,
      "outputs": [
        {
          "output_type": "stream",
          "name": "stdout",
          "text": [
            "2\n"
          ]
        }
      ]
    },
    {
      "cell_type": "code",
      "source": [
        "#rock,paper,scissor game\n",
        "import random\n",
        "l=['rock','paper','scissor']\n",
        "c,h=0,0\n",
        "while True:\n",
        "  person=input('Human turn:')\n",
        "  com=random.choice(l)\n",
        "  print('Computer turn:',com)\n",
        "  if person=='rock':\n",
        "    if com=='paper':\n",
        "      c=c+1\n",
        "    elif com=='scissor':\n",
        "      h=h+1\n",
        "    else:\n",
        "      pass\n",
        "  elif person=='paper':\n",
        "    if com=='scissor':\n",
        "      h=h+1 \n",
        "    elif com=='rock':\n",
        "      c=c+1\n",
        "    else:\n",
        "      pass\n",
        "  else:\n",
        "    if com=='rock':\n",
        "      c=c+1\n",
        "    elif com=='paper':\n",
        "      h=h+1\n",
        "    else:\n",
        "      pass\n",
        "  print('Computer score:',c)\n",
        "  print('Human score:',h)\n",
        "  if h==5:\n",
        "    print('Human wins')\n",
        "    break\n",
        "  if c==5:\n",
        "    print('Computer wins')\n",
        "    break\n"
      ],
      "metadata": {
        "colab": {
          "base_uri": "https://localhost:8080/"
        },
        "id": "Ahto4EWXzhOG",
        "outputId": "55ce366e-f02a-43cd-bfe0-7cce64302ba5"
      },
      "execution_count": null,
      "outputs": [
        {
          "output_type": "stream",
          "name": "stdout",
          "text": [
            "Human turn:paper\n",
            "Computer turn: scissor\n",
            "Computer score: 0\n",
            "Human score: 1\n",
            "Human turn:scissor\n",
            "Computer turn: rock\n",
            "Computer score: 1\n",
            "Human score: 1\n",
            "Human turn:rock\n",
            "Computer turn: paper\n",
            "Computer score: 2\n",
            "Human score: 1\n",
            "Human turn:paper\n",
            "Computer turn: paper\n",
            "Computer score: 2\n",
            "Human score: 1\n",
            "Human turn:rock\n",
            "Computer turn: rock\n",
            "Computer score: 2\n",
            "Human score: 1\n",
            "Human turn:paper\n",
            "Computer turn: rock\n",
            "Computer score: 3\n",
            "Human score: 1\n",
            "Human turn:paper\n",
            "Computer turn: scissor\n",
            "Computer score: 3\n",
            "Human score: 2\n",
            "Human turn:rock\n",
            "Computer turn: paper\n",
            "Computer score: 4\n",
            "Human score: 2\n",
            "Human turn:scissor\n",
            "Computer turn: rock\n",
            "Computer score: 5\n",
            "Human score: 2\n",
            "Computer wins\n"
          ]
        }
      ]
    },
    {
      "cell_type": "code",
      "source": [
        "#Polymorphism\n",
        "#method overriding is also known as runtime polymorphism\n",
        "#same method name but diff signatures is overloading\n",
        "#same method name and diff classes is overriding\n",
        "class A:\n",
        "  def method_1(self,a,b):\n",
        "    print('Sum of 2 numbers:',a+b)\n",
        "class B(A):\n",
        "  def method_1(self,a,b):\n",
        "    print('mul of 2 numbers:',a*b)\n",
        "obj=B()\n",
        "obj.method_1(10,20)"
      ],
      "metadata": {
        "colab": {
          "base_uri": "https://localhost:8080/"
        },
        "id": "dpPhuOcm2bk5",
        "outputId": "17dc7d59-6168-4add-efed-1853f578bc0d"
      },
      "execution_count": null,
      "outputs": [
        {
          "output_type": "stream",
          "name": "stdout",
          "text": [
            "mul of 2 numbers: 200\n"
          ]
        }
      ]
    },
    {
      "cell_type": "code",
      "source": [
        "#n number- 101 - 010 - *(111-101)*\n",
        "#method-1\n",
        "n1=int(input())\n",
        "n2=int(input())\n",
        "a=bin(n1)\n",
        "a=list(a[2:])\n",
        "b=bin(n2)\n",
        "b=list(b[2:])\n",
        "for i in range(len(a)):\n",
        "  if a[i]=='0':\n",
        "    a[i]='1'\n",
        "  else:\n",
        "    a[i]='0'\n",
        "for i in range(len(b)):\n",
        "  if b[i]=='0':\n",
        "    b[i]='1'\n",
        "  else:\n",
        "    b[i]='0'\n",
        "a=''.join(a)\n",
        "b=''.join(b)\n",
        "n1=int(a,2)\n",
        "n2=int(b,2)\n",
        "print(n1^n2)"
      ],
      "metadata": {
        "id": "4Yp8TNzpHeiA",
        "colab": {
          "base_uri": "https://localhost:8080/"
        },
        "outputId": "3784cf55-2d44-4637-9eb6-8a114bca6534"
      },
      "execution_count": null,
      "outputs": [
        {
          "output_type": "stream",
          "name": "stdout",
          "text": [
            "5\n",
            "7\n",
            "2\n"
          ]
        }
      ]
    },
    {
      "cell_type": "code",
      "source": [
        "#method-2\n",
        "n1=int(input('enter n1:'))\n",
        "n2=int(input('enter n2:'))\n",
        "#for n1\n",
        "a=len(bin(n1))-2\n",
        "f1='1'*a\n",
        "diff1=int(f1,2)-n1\n",
        "#for n2\n",
        "b=len(bin(n2))-2\n",
        "f2='1'*b\n",
        "diff2=int(f2,2)-n2\n",
        "print(diff1^diff2)"
      ],
      "metadata": {
        "colab": {
          "base_uri": "https://localhost:8080/"
        },
        "id": "KKn3_SvFM_nv",
        "outputId": "05a451c4-b017-415c-8a65-5cf2fc62771d"
      },
      "execution_count": null,
      "outputs": [
        {
          "output_type": "stream",
          "name": "stdout",
          "text": [
            "enter n1:5\n",
            "enter n2:7\n",
            "2\n"
          ]
        }
      ]
    }
  ]
}