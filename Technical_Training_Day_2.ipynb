{
  "nbformat": 4,
  "nbformat_minor": 0,
  "metadata": {
    "colab": {
      "provenance": []
    },
    "kernelspec": {
      "name": "python3",
      "display_name": "Python 3"
    },
    "language_info": {
      "name": "python"
    }
  },
  "cells": [
    {
      "cell_type": "code",
      "execution_count": null,
      "metadata": {
        "id": "zmxy9qgbwgTu"
      },
      "outputs": [],
      "source": []
    },
    {
      "cell_type": "markdown",
      "source": [
        "### **Tuple**\n",
        "1. tuple.index(element)\n",
        "   - where element is persent in tuple \n",
        "2. tuple.count(element)\n",
        "   - counts the frequency of element in the tuple\n",
        "   "
      ],
      "metadata": {
        "id": "Qb0xjL8QefYD"
      }
    },
    {
      "cell_type": "code",
      "source": [
        "t=(1,2,3,4)\n",
        "print(type(t))\n",
        "print(t.index(2))\n",
        "print(t.count(1))"
      ],
      "metadata": {
        "colab": {
          "base_uri": "https://localhost:8080/"
        },
        "id": "bfzpxcT_fNgA",
        "outputId": "f238933e-2371-4363-a5e2-0dd02bac5acc"
      },
      "execution_count": null,
      "outputs": [
        {
          "output_type": "stream",
          "name": "stdout",
          "text": [
            "<class 'tuple'>\n",
            "1\n",
            "1\n"
          ]
        }
      ]
    },
    {
      "cell_type": "markdown",
      "source": [
        "### **Set**\n",
        "1. s1.intersection(s2)\n",
        "   - gives common elements in both sets\n",
        "2. s1.union(s2)\n",
        "   - gives all the elements from both the sets without duplicates\n",
        "3. s1.difference(s2)\n",
        "   - returns elements from the s1 which are not present in s2\n",
        "4. s1.add(element)\n",
        "   - adds element into the list\n",
        "5. s1.difference_update(s2)"
      ],
      "metadata": {
        "id": "2uotB1pwfvPe"
      }
    },
    {
      "cell_type": "code",
      "source": [
        "s1={1,2,3,4}\n",
        "s2={2,5,6,1}\n",
        "print('intersection:',s1.intersection(s2))\n",
        "print(s1.union(s2))\n",
        "print('difference:',s1.difference(s2))\n",
        "s1.add(5)\n",
        "print('after add:',s1)\n",
        "s1.difference_update(s2)\n",
        "print('difference update:',s1)"
      ],
      "metadata": {
        "colab": {
          "base_uri": "https://localhost:8080/"
        },
        "id": "iLKLDThJfVca",
        "outputId": "c21bdd2f-5809-40eb-e69e-49abe11d4583"
      },
      "execution_count": null,
      "outputs": [
        {
          "output_type": "stream",
          "name": "stdout",
          "text": [
            "intersection: {1, 2}\n",
            "{1, 2, 3, 4, 5, 6}\n",
            "difference: {3, 4}\n",
            "after add: {1, 2, 3, 4, 5}\n",
            "difference update: {3, 4}\n"
          ]
        }
      ]
    },
    {
      "cell_type": "markdown",
      "source": [
        "### **Conditional Statements**\n",
        "1. if(condtition):\n",
        "\n",
        "        statements\n",
        "2. elif(condition):\n",
        "\n",
        "        statements\n",
        "\n",
        "3. else:\n",
        "  \n",
        "        statements\n",
        "Types of "
      ],
      "metadata": {
        "id": "0R8s7mSvisng"
      }
    },
    {
      "cell_type": "code",
      "source": [
        "#even or odd\n",
        "a=int(input())\n",
        "print('Using if-else:')\n",
        "if a%2==0:\n",
        "  print(a,'is even')\n",
        "else:\n",
        "  print(a,'is odd')\n",
        "print('Using ternary statement:')\n",
        "print(a,'is even') if a%2==0 else print(a,'is odd')"
      ],
      "metadata": {
        "colab": {
          "base_uri": "https://localhost:8080/"
        },
        "id": "hfKXQClggjU3",
        "outputId": "cc2275b3-ac4b-4261-8130-e2e1c9e660e8"
      },
      "execution_count": null,
      "outputs": [
        {
          "output_type": "stream",
          "name": "stdout",
          "text": [
            "12\n",
            "Using if-else:\n",
            "12 is even\n",
            "Using ternary statement:\n",
            "12 is even\n"
          ]
        }
      ]
    },
    {
      "cell_type": "markdown",
      "source": [
        "### **Ternary Operator**\n",
        "- print(statement) if condition else print(statement)"
      ],
      "metadata": {
        "id": "LPYPTRPGnmv5"
      }
    },
    {
      "cell_type": "code",
      "source": [
        "#printing week days\n",
        "a=int(input('Enter the day number :'))\n",
        "if a==1:\n",
        "  print('Sunday')\n",
        "elif a==2:\n",
        "  print('Monday')\n",
        "elif a==3:\n",
        "  print('Tuesday')\n",
        "elif a==4:\n",
        "  print('Wednesday')\n",
        "elif a==5:\n",
        "  print('Thursday')\n",
        "elif a==6:\n",
        "  print('Friday')\n",
        "elif a==7:\n",
        "  print('Saturday')\n",
        "else:\n",
        "  print('Please enter valid number')"
      ],
      "metadata": {
        "colab": {
          "base_uri": "https://localhost:8080/"
        },
        "id": "m_jL074GmfQP",
        "outputId": "f1fef18f-6cca-4a39-ee80-b6c18ff33a09"
      },
      "execution_count": null,
      "outputs": [
        {
          "output_type": "stream",
          "name": "stdout",
          "text": [
            "Enter the day number :12\n",
            "Please enter valid number\n"
          ]
        }
      ]
    },
    {
      "cell_type": "code",
      "source": [
        "#>0 and <20 if even print weird  else normal\n",
        "#20-30 print normal \n",
        "#>=30 and odd print normal else weird\n",
        "num=int(input())\n",
        "if num>0 and num<20:\n",
        "  if num%2==0:\n",
        "    print('Weird Number')\n",
        "  else:\n",
        "    print('Normal Number')\n",
        "elif num>=20 and num<30:\n",
        "  print('Normal Number')\n",
        "else:\n",
        "  if num%2==0:\n",
        "    print('Weird Number')\n",
        "  else:\n",
        "    print('Normal Number')"
      ],
      "metadata": {
        "colab": {
          "base_uri": "https://localhost:8080/"
        },
        "id": "BEMX6NwwpK1j",
        "outputId": "da8a9451-640a-4c97-c140-c6eca36dbfa8"
      },
      "execution_count": null,
      "outputs": [
        {
          "output_type": "stream",
          "name": "stdout",
          "text": [
            "20\n",
            "Normal Number\n"
          ]
        }
      ]
    },
    {
      "cell_type": "markdown",
      "source": [
        "### **Dictionary**\n",
        "1. It is key-value pair \n",
        "2. key and value are seperated by colon(:)\n",
        "3. Every pair is seperated by comma(,)\n",
        "\n",
        "Dictionary Method\n",
        "1. d.update({key:value})\n",
        "2. d."
      ],
      "metadata": {
        "id": "Wv-E0HKfybVj"
      }
    },
    {
      "cell_type": "code",
      "source": [
        "d={1:'teja',2:'vani',3:'vasa'}\n",
        "print(d)\n",
        "dicti={\n",
        "    'rollnum1':{'name':'abc','class':'1'},\n",
        "    'rollnum2':{'name':'def','class':'2'}\n",
        "}\n",
        "print(dicti)"
      ],
      "metadata": {
        "colab": {
          "base_uri": "https://localhost:8080/"
        },
        "id": "s2-tLWlqtJqS",
        "outputId": "23e0abdd-5d75-4d5c-e48b-9a499605d4f0"
      },
      "execution_count": null,
      "outputs": [
        {
          "output_type": "stream",
          "name": "stdout",
          "text": [
            "{1: 'teja', 2: 'vani', 3: 'vasa'}\n",
            "{'rollnum1': {'name': 'abc', 'class': '1'}, 'rollnum2': {'name': 'def', 'class': '2'}}\n"
          ]
        }
      ]
    },
    {
      "cell_type": "code",
      "source": [
        "d={'s1':'A','s2':'B','s3':'C','s4':'D','s5':'E'}\n",
        "d.update({'s1':'F'})\n",
        "print(d['s1'])"
      ],
      "metadata": {
        "id": "Yv5RXxLhyzrb",
        "colab": {
          "base_uri": "https://localhost:8080/"
        },
        "outputId": "6b7731a5-ac90-4b47-846f-8cf6c5350334"
      },
      "execution_count": null,
      "outputs": [
        {
          "output_type": "stream",
          "name": "stdout",
          "text": [
            "F\n"
          ]
        }
      ]
    },
    {
      "cell_type": "markdown",
      "source": [
        "### **Range function**\n",
        "- range(start,end,step_size)\n"
      ],
      "metadata": {
        "id": "K_Su285cZFxC"
      }
    },
    {
      "cell_type": "code",
      "source": [
        "#range function\n",
        "for i in range(1,10):\n",
        "  print(i,end=' ')"
      ],
      "metadata": {
        "colab": {
          "base_uri": "https://localhost:8080/"
        },
        "id": "Ul9gs2RrOOPb",
        "outputId": "1067896d-7873-4053-9f59-327ea89684e5"
      },
      "execution_count": null,
      "outputs": [
        {
          "output_type": "stream",
          "name": "stdout",
          "text": [
            "1 2 3 4 5 6 7 8 9 "
          ]
        }
      ]
    },
    {
      "cell_type": "code",
      "source": [
        "import math as m\n",
        "l=[(12,12),(25,25),(26,26)]\n",
        "for i in l:\n",
        "  a=m.prod(i)\n",
        "  print(a*a,end=' ')\n",
        "  "
      ],
      "metadata": {
        "colab": {
          "base_uri": "https://localhost:8080/"
        },
        "id": "WMLba4vgaPpf",
        "outputId": "46849f80-7c23-4d43-c7de-b943bb47433d"
      },
      "execution_count": 1,
      "outputs": [
        {
          "output_type": "stream",
          "name": "stdout",
          "text": [
            "20736 390625 456976 "
          ]
        }
      ]
    },
    {
      "cell_type": "code",
      "source": [
        "l=[10,20,30,40]\n",
        "n=int(input())\n",
        "if n not in l:\n",
        "  print(-1)\n",
        "  exit(0)\n",
        "for i in range(len(l)):\n",
        "  if l[i]==n:\n",
        "    print('Index is:',i)\n",
        "    break"
      ],
      "metadata": {
        "colab": {
          "base_uri": "https://localhost:8080/"
        },
        "id": "gHUaKgTias66",
        "outputId": "77cacda9-d488-4d92-e1a7-d49870153afe"
      },
      "execution_count": null,
      "outputs": [
        {
          "output_type": "stream",
          "name": "stdout",
          "text": [
            "20\n",
            "Index is: 1\n"
          ]
        }
      ]
    },
    {
      "cell_type": "markdown",
      "source": [
        "### **List Comprehension**\n",
        "- list=[x for x in range(start,end)]"
      ],
      "metadata": {
        "id": "5EQ4f3EMfeWY"
      }
    },
    {
      "cell_type": "code",
      "source": [
        "#list comprehension vs normal method\n",
        "l=[]\n",
        "for i in range(10):\n",
        "  l.append(i)\n",
        "print(l)\n",
        "#another way\n",
        "l=[x for x in range(10)]\n",
        "print(l)"
      ],
      "metadata": {
        "colab": {
          "base_uri": "https://localhost:8080/"
        },
        "id": "ra9q5bErdU2g",
        "outputId": "2b0485d9-8dd7-4090-8d82-e7d7383973cc"
      },
      "execution_count": null,
      "outputs": [
        {
          "output_type": "stream",
          "name": "stdout",
          "text": [
            "[0, 1, 2, 3, 4, 5, 6, 7, 8, 9]\n",
            "[0, 1, 2, 3, 4, 5, 6, 7, 8, 9]\n"
          ]
        }
      ]
    },
    {
      "cell_type": "code",
      "source": [
        "#generate even numbers in 0-50 range\n",
        "l=[num for num in range(0,51) if num%2==0]\n",
        "print(l)"
      ],
      "metadata": {
        "colab": {
          "base_uri": "https://localhost:8080/"
        },
        "id": "jpsIeJwufxzu",
        "outputId": "46e67c7a-9e62-4db6-b1d8-303938a5e461"
      },
      "execution_count": null,
      "outputs": [
        {
          "output_type": "stream",
          "name": "stdout",
          "text": [
            "[0, 2, 4, 6, 8, 10, 12, 14, 16, 18, 20, 22, 24, 26, 28, 30, 32, 34, 36, 38, 40, 42, 44, 46, 48, 50]\n"
          ]
        }
      ]
    },
    {
      "cell_type": "code",
      "source": [
        "#printing \n",
        "l=[i for i in range(1,101) if i%7==0 and i%11==0]\n",
        "print(l)"
      ],
      "metadata": {
        "colab": {
          "base_uri": "https://localhost:8080/"
        },
        "id": "SYamgXlJgrmq",
        "outputId": "6f35d13b-f43b-4180-c268-39cffcd392e4"
      },
      "execution_count": null,
      "outputs": [
        {
          "output_type": "stream",
          "name": "stdout",
          "text": [
            "[77]\n"
          ]
        }
      ]
    },
    {
      "cell_type": "code",
      "source": [
        "#printing list in reverse order\n",
        "l=[1,2,3,4]\n",
        "for i in range(len(l)-1,-1,-1):\n",
        "  print(l[i],end=' ')"
      ],
      "metadata": {
        "colab": {
          "base_uri": "https://localhost:8080/"
        },
        "id": "cwiRAL4NiZHp",
        "outputId": "0f201db4-09ce-4aca-ce3c-21efbd99138f"
      },
      "execution_count": null,
      "outputs": [
        {
          "output_type": "stream",
          "name": "stdout",
          "text": [
            "4 3 2 1 "
          ]
        }
      ]
    },
    {
      "cell_type": "code",
      "source": [
        "#sum of positive and negative elements\n",
        "l=list(map(int,input().split()))\n",
        "p,n=0,0\n",
        "for i in l:\n",
        "  if i>-1:\n",
        "    p=p+i\n",
        "  else:\n",
        "    n=n+i\n",
        "print('Sum of positive numbers:',p)\n",
        "print('Sum of negative numbers:',n)"
      ],
      "metadata": {
        "colab": {
          "base_uri": "https://localhost:8080/"
        },
        "id": "gI15rraVkslb",
        "outputId": "844d3b5d-5b18-490a-8af5-8ffb180cb034"
      },
      "execution_count": null,
      "outputs": [
        {
          "output_type": "stream",
          "name": "stdout",
          "text": [
            "1 2 -1 -2\n",
            "Sum of positive numbers: 3\n",
            "Sum of negative numbers: -3\n"
          ]
        }
      ]
    },
    {
      "cell_type": "markdown",
      "source": [
        "### **Task**"
      ],
      "metadata": {
        "id": "s9Dl3hshqhOJ"
      }
    },
    {
      "cell_type": "code",
      "source": [
        "#dict input\n",
        "#username and password -- keys\n",
        "#store these in a list"
      ],
      "metadata": {
        "id": "cMMNGLvaml3z"
      },
      "execution_count": null,
      "outputs": []
    }
  ]
}