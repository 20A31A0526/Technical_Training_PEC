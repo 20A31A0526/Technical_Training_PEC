{
  "nbformat": 4,
  "nbformat_minor": 0,
  "metadata": {
    "colab": {
      "provenance": []
    },
    "kernelspec": {
      "name": "python3",
      "display_name": "Python 3"
    },
    "language_info": {
      "name": "python"
    }
  },
  "cells": [
    {
      "cell_type": "code",
      "source": [
        "pip install translate"
      ],
      "metadata": {
        "colab": {
          "base_uri": "https://localhost:8080/"
        },
        "id": "bCUXzC2gFKnT",
        "outputId": "5319dbe3-7bb6-48d2-edb0-eb279074f2b2"
      },
      "execution_count": null,
      "outputs": [
        {
          "output_type": "stream",
          "name": "stdout",
          "text": [
            "Looking in indexes: https://pypi.org/simple, https://us-python.pkg.dev/colab-wheels/public/simple/\n",
            "Collecting translate\n",
            "  Downloading translate-3.6.1-py2.py3-none-any.whl (12 kB)\n",
            "Requirement already satisfied: click in /usr/local/lib/python3.8/dist-packages (from translate) (7.1.2)\n",
            "Requirement already satisfied: requests in /usr/local/lib/python3.8/dist-packages (from translate) (2.25.1)\n",
            "Requirement already satisfied: lxml in /usr/local/lib/python3.8/dist-packages (from translate) (4.9.2)\n",
            "Collecting libretranslatepy==2.1.1\n",
            "  Downloading libretranslatepy-2.1.1-py3-none-any.whl (3.2 kB)\n",
            "Requirement already satisfied: idna<3,>=2.5 in /usr/local/lib/python3.8/dist-packages (from requests->translate) (2.10)\n",
            "Requirement already satisfied: urllib3<1.27,>=1.21.1 in /usr/local/lib/python3.8/dist-packages (from requests->translate) (1.24.3)\n",
            "Requirement already satisfied: chardet<5,>=3.0.2 in /usr/local/lib/python3.8/dist-packages (from requests->translate) (4.0.0)\n",
            "Requirement already satisfied: certifi>=2017.4.17 in /usr/local/lib/python3.8/dist-packages (from requests->translate) (2022.12.7)\n",
            "Installing collected packages: libretranslatepy, translate\n",
            "Successfully installed libretranslatepy-2.1.1 translate-3.6.1\n"
          ]
        }
      ]
    },
    {
      "cell_type": "code",
      "execution_count": null,
      "metadata": {
        "id": "90CnM1Xhq7iy",
        "colab": {
          "base_uri": "https://localhost:8080/"
        },
        "outputId": "67766b71-b840-4e75-f732-b4d66298bbce"
      },
      "outputs": [
        {
          "output_type": "stream",
          "name": "stdout",
          "text": [
            "சாய் தேஜா\n"
          ]
        }
      ],
      "source": [
        "#language translator\n",
        "from translate import Translator\n",
        "translator= Translator(from_lang='english',to_lang=\"telugu\")\n",
        "translation = translator.translate(\"teja\")\n",
        "print(translation)"
      ]
    },
    {
      "cell_type": "code",
      "source": [
        "#example\n",
        "l=[2,2,2,2,2,2,2]\n",
        "a=l.index(2)\n",
        "print(a)\n",
        "l[a]='*'\n",
        "a=l.index(2)\n",
        "print(a)\n",
        "l[a]='*'\n",
        "a=l.index(2)\n",
        "print(a)\n",
        "l[a]='*'\n",
        "a=l.index(2)\n",
        "print(a)\n",
        "l[a]='*'\n"
      ],
      "metadata": {
        "colab": {
          "base_uri": "https://localhost:8080/"
        },
        "id": "JE3h1fS6FDCl",
        "outputId": "8ddc773f-8685-4b8f-f03c-07a943c7af25"
      },
      "execution_count": null,
      "outputs": [
        {
          "output_type": "stream",
          "name": "stdout",
          "text": [
            "0\n",
            "1\n",
            "2\n",
            "3\n"
          ]
        }
      ]
    },
    {
      "cell_type": "code",
      "source": [
        "#method overriding\n",
        "class A:\n",
        "  def m1(self):\n",
        "    print('in class A')\n",
        "class B(A):\n",
        "  def m1(self):\n",
        "    print('in class B')\n",
        "obj=B()\n",
        "obj.m1()\n",
        "obj.m1()"
      ],
      "metadata": {
        "colab": {
          "base_uri": "https://localhost:8080/"
        },
        "id": "tx9iIBPpUR6p",
        "outputId": "bda9b2f7-802a-4b52-9e7d-e401c2bfd041"
      },
      "execution_count": null,
      "outputs": [
        {
          "output_type": "stream",
          "name": "stdout",
          "text": [
            "in class B\n",
            "in class B\n"
          ]
        }
      ]
    },
    {
      "cell_type": "code",
      "source": [
        "#method override\n",
        "class Animal:\n",
        "  def speaks(self):\n",
        "    return \"Animal can't speak\"\n",
        "class Dog(Animal):\n",
        "  def speaks(self):\n",
        "    return 'Dog barks'\n",
        "class Cat(Animal):\n",
        "  def speaks(self):\n",
        "    return \"Cat does't speak\"\n",
        "class Horse(Animal):\n",
        "  def speaks(self):\n",
        "    return \"Horse can't speak\"\n",
        "d=Dog()\n",
        "print('Dog class:',d.speaks())\n",
        "c=Cat()\n",
        "print('Cat class:',c.speaks())\n",
        "h=Horse()\n",
        "print('Horse class:',h.speaks())\n"
      ],
      "metadata": {
        "colab": {
          "base_uri": "https://localhost:8080/"
        },
        "id": "tE9mlSHqKasF",
        "outputId": "f8594e6a-3e55-49fa-c05c-faeed6430dd3"
      },
      "execution_count": null,
      "outputs": [
        {
          "output_type": "stream",
          "name": "stdout",
          "text": [
            "Dog class: Dog barks\n",
            "Cat class: Cat does't speak\n",
            "Horse class: Horse can't speak\n"
          ]
        }
      ]
    },
    {
      "cell_type": "markdown",
      "source": [
        "### **Abstraction**\n",
        "1. to implement abstraction we make use of abc(Abstract Base Class) library"
      ],
      "metadata": {
        "id": "390trHAzXHpz"
      }
    },
    {
      "cell_type": "code",
      "source": [
        "from abc import ABC,abstractmethod\n",
        "class Area(ABC):\n",
        "  @abstractmethod\n",
        "  def calculate_area(self):\n",
        "    pass\n",
        "class Square(Area):\n",
        "  def calculate_area(self):\n",
        "    print('In Square area')\n",
        "    pass\n",
        "class Rectangle(Area):\n",
        "  def calculate_area(self):\n",
        "    print('In Rectangle area')\n",
        "    pass\n",
        "obj1=Square()\n",
        "obj1.calculate_area()"
      ],
      "metadata": {
        "colab": {
          "base_uri": "https://localhost:8080/"
        },
        "id": "jmN49uVTWM9Y",
        "outputId": "4951d345-d7ed-4548-d941-e8675fe164c1"
      },
      "execution_count": null,
      "outputs": [
        {
          "output_type": "stream",
          "name": "stdout",
          "text": [
            "In Square area\n"
          ]
        }
      ]
    },
    {
      "cell_type": "markdown",
      "source": [
        "### **Shift Operators**"
      ],
      "metadata": {
        "id": "aLT97WsREg39"
      }
    },
    {
      "cell_type": "code",
      "source": [
        "#right shift\n",
        "print(2>>1)"
      ],
      "metadata": {
        "id": "ZN7318xlXWsy",
        "colab": {
          "base_uri": "https://localhost:8080/"
        },
        "outputId": "035813cd-7f20-43b5-e5e2-59b95f40ef4c"
      },
      "execution_count": null,
      "outputs": [
        {
          "output_type": "stream",
          "name": "stdout",
          "text": [
            "1\n"
          ]
        }
      ]
    },
    {
      "cell_type": "code",
      "source": [
        "#left shift\n",
        "print(7<<3)"
      ],
      "metadata": {
        "colab": {
          "base_uri": "https://localhost:8080/"
        },
        "id": "Aq4TgbW0Eo11",
        "outputId": "d2d64da4-988a-46cf-d376-31cb8a1d8e0d"
      },
      "execution_count": null,
      "outputs": [
        {
          "output_type": "stream",
          "name": "stdout",
          "text": [
            "56\n"
          ]
        }
      ]
    },
    {
      "cell_type": "markdown",
      "source": [
        "### **Tic-Tac-Toe**"
      ],
      "metadata": {
        "id": "I9O9WMrgFERF"
      }
    },
    {
      "cell_type": "code",
      "source": [
        "board=[\n",
        "    ['','',''],\n",
        "    ['','',''],\n",
        "    ['','','']\n",
        "]\n",
        "def print_board(board):\n",
        "  print(*board[0],sep=' | ')\n",
        "  print('---------')\n",
        "  print(*board[1],sep=' | ')\n",
        "  print('---------')\n",
        "  print(*board[2],sep=' | ')\n",
        "print_board(board)"
      ],
      "metadata": {
        "colab": {
          "base_uri": "https://localhost:8080/"
        },
        "id": "j2sDGVrVEs8T",
        "outputId": "edf85acc-22ad-42c8-b401-3ab323a7b1f9"
      },
      "execution_count": null,
      "outputs": [
        {
          "output_type": "stream",
          "name": "stdout",
          "text": [
            " |  | \n",
            "---------\n",
            " |  | \n",
            "---------\n",
            " |  | \n"
          ]
        }
      ]
    },
    {
      "cell_type": "code",
      "source": [
        "#choosing symbols\n",
        "def get_markers():\n",
        "  marker1=input('Enter your choice(X or O)').upper()\n",
        "  marker2=''\n",
        "  if marker1=='X':\n",
        "    marker2='O'\n",
        "    return ['X','O']\n",
        "  elif marker1=='O':\n",
        "    marker2='X'\n",
        "    return ['O','X']\n",
        "  else:\n",
        "    print('Invalid input')\n",
        "    return get_markers()\n",
        "player1=0\n",
        "player2=0\n",
        "m1,m2=get_markers()\n",
        "print(f\"player 1: {m1}\")\n",
        "print(f\"player 2: {m2}\")"
      ],
      "metadata": {
        "colab": {
          "base_uri": "https://localhost:8080/"
        },
        "id": "_SlXv25FG5zG",
        "outputId": "bd289ebc-9732-4d12-fb23-15b1066bd6b7"
      },
      "execution_count": null,
      "outputs": [
        {
          "output_type": "stream",
          "name": "stdout",
          "text": [
            "Enter your choice(X or O)x\n",
            "player 1: X\n",
            "player 2: O\n"
          ]
        }
      ]
    },
    {
      "cell_type": "code",
      "source": [
        "#Entering the coordinates \n",
        "def Get_coordinates():\n",
        "  x,y=map(int,input('Enter the coordinates:').split())\n",
        "  cons=[0,1,2]\n",
        "  if x in cons and y in cons:\n",
        "    return [x,y]\n",
        "  else:\n",
        "    print('Invalid Input')\n",
        "    return Get_coordinates()\n",
        "x,y=Get_coordinates()\n",
        "print(x,y)"
      ],
      "metadata": {
        "colab": {
          "base_uri": "https://localhost:8080/"
        },
        "id": "2NMqzaewJXZJ",
        "outputId": "14a400a3-9ed3-4d81-8c67-aa5d22038b70"
      },
      "execution_count": null,
      "outputs": [
        {
          "output_type": "stream",
          "name": "stdout",
          "text": [
            "Enter the coordinates:1 2\n",
            "1 2\n"
          ]
        }
      ]
    },
    {
      "cell_type": "code",
      "source": [
        "def update_board(board,chance,marker,x,y):\n",
        "  #player1 chance\n",
        "  if chance==True:\n",
        "    board[x][y]=marker\n",
        "    if check_for_win(board):\n",
        "      print('Player1 wins!!')\n",
        "      return 'Game Over'\n",
        "    chance=False\n",
        "  else:\n",
        "    board[x][y]=marker\n",
        "    if check_for_win(board):\n",
        "      print('Player2 wins!!')\n",
        "      return 'Game Over'\n",
        "    chance=True"
      ],
      "metadata": {
        "id": "f6k4wL0GJ4M-"
      },
      "execution_count": null,
      "outputs": []
    },
    {
      "cell_type": "code",
      "source": [
        "def play_game():\n",
        "  player1=0\n",
        "  player2=0\n",
        "  m1,m2=get_markers()\n",
        "  print(f\"player 1: {m1}\")\n",
        "  print(f\"player 2: {m2}\")\n",
        "  chance=True\n",
        "  while True:\n",
        "    print_board(board)\n",
        "    x,y=Get_coordinates()\n",
        "    if chance:\n",
        "      chance=update_board(board,chance,m1,x,y)\n",
        "      if chance=='Game Over':\n",
        "        break\n",
        "    else:\n",
        "      chance=update_board(board,chance,m2,x,y)\n",
        "      if chance=='Game Over':\n",
        "        break\n",
        "play_game()"
      ],
      "metadata": {
        "id": "Gf3kC4H2NXFo"
      },
      "execution_count": null,
      "outputs": []
    },
    {
      "cell_type": "code",
      "source": [
        "def check_for_win(board):\n",
        "  for row in board:\n",
        "    if row[0]==row[1] and row[1]==row[2] and row[1]!='':\n",
        "      return True\n",
        "  for i in range(len(board)):\n",
        "    if board[0][i]==board[1][i] and board[1][i]==board[2][i] and board[2][i]!='':\n",
        "      return True\n",
        "  if board[0][0]==board[1][1] and board[1][1]==board[2][2] and board[2][2]!='':\n",
        "    return True\n",
        "  if board[0][-1]==board[1][1] and board[1][1]==board[2][0]:\n",
        "    return True\n",
        "\n"
      ],
      "metadata": {
        "id": "5FypV_eBOouE"
      },
      "execution_count": null,
      "outputs": []
    },
    {
      "cell_type": "code",
      "source": [],
      "metadata": {
        "id": "Ir4YXZ2rUAof"
      },
      "execution_count": null,
      "outputs": []
    }
  ]
}